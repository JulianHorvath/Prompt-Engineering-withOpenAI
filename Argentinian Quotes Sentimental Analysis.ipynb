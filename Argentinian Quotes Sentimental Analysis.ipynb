{
 "cells": [
  {
   "cell_type": "code",
   "execution_count": 6,
   "id": "89d82ad3",
   "metadata": {},
   "outputs": [],
   "source": [
    "# Importing OpenAI library\n",
    "import openai"
   ]
  },
  {
   "cell_type": "code",
   "execution_count": 10,
   "id": "c3e10d68",
   "metadata": {},
   "outputs": [],
   "source": [
    "# API Key configuration\n",
    "openai.api_key = ''"
   ]
  },
  {
   "cell_type": "code",
   "execution_count": 8,
   "id": "e30847c4",
   "metadata": {},
   "outputs": [],
   "source": [
    "# Using Completion method for sentiment analysis\n",
    "# Temperature setted to 0 because we want no doubts! :D\n",
    "# For tokenizing text, visit https://platform.openai.com/tokenizer\n",
    "\n",
    "response = openai.Completion.create(\n",
    "  model='text-davinci-003',\n",
    "  prompt=\"Decide si el sentimiento de una frase es positivo, neutral, o negativo.\\\n",
    "  \\n\\nFrase: \\\"Mi voto es no positivo.\\\n",
    "  \\\"\\nSentiment:\",\n",
    "  temperature=0,                 \n",
    "  max_tokens=8,                 \n",
    "  frequency_penalty=0.5,\n",
    "  presence_penalty=0\n",
    ")"
   ]
  },
  {
   "cell_type": "code",
   "execution_count": 9,
   "id": "d3107039",
   "metadata": {},
   "outputs": [
    {
     "data": {
      "text/plain": [
       "' Neutral'"
      ]
     },
     "execution_count": 9,
     "metadata": {},
     "output_type": "execute_result"
    }
   ],
   "source": [
    "# And the response is...\n",
    "response.choices[0].text"
   ]
  },
  {
   "cell_type": "code",
   "execution_count": 11,
   "id": "83a9f9eb",
   "metadata": {},
   "outputs": [
    {
     "data": {
      "text/plain": [
       "' Negativo'"
      ]
     },
     "execution_count": 11,
     "metadata": {},
     "output_type": "execute_result"
    }
   ],
   "source": [
    "response2 = openai.Completion.create(\n",
    "  model='text-davinci-003',\n",
    "  prompt=\"Decide si el sentimiento de una frase es positivo, neutral, o negativo.\\\n",
    "  \\n\\nFrase: \\\"¡No se inunda más, carajo!.\\\n",
    "  \\\"\\nSentiment:\",\n",
    "  temperature=0,\n",
    "  max_tokens=14,\n",
    "  frequency_penalty=0.5,\n",
    "  presence_penalty=0\n",
    ")\n",
    "\n",
    "# And the truth is...\n",
    "response2.choices[0].text"
   ]
  },
  {
   "cell_type": "code",
   "execution_count": 12,
   "id": "63e566bb",
   "metadata": {},
   "outputs": [
    {
     "data": {
      "text/plain": [
       "' Neutral'"
      ]
     },
     "execution_count": 12,
     "metadata": {},
     "output_type": "execute_result"
    }
   ],
   "source": [
    "response3 = openai.Completion.create(\n",
    "  model='text-davinci-003',\n",
    "  prompt=\"Decide si el sentimiento de una frase es positivo, neutral, o negativo.\\\n",
    "  \\n\\nFrase: \\\"Estamos mal, pero vamos bien.\\\n",
    "  \\\"\\nSentiment:\",\n",
    "  temperature=0,\n",
    "  max_tokens=14,\n",
    "  frequency_penalty=0.5,\n",
    "  presence_penalty=0\n",
    ")\n",
    "\n",
    "# And the response is...\n",
    "response3.choices[0].text"
   ]
  }
 ],
 "metadata": {
  "kernelspec": {
   "display_name": "Python 3 (ipykernel)",
   "language": "python",
   "name": "python3"
  },
  "language_info": {
   "codemirror_mode": {
    "name": "ipython",
    "version": 3
   },
   "file_extension": ".py",
   "mimetype": "text/x-python",
   "name": "python",
   "nbconvert_exporter": "python",
   "pygments_lexer": "ipython3",
   "version": "3.9.5"
  }
 },
 "nbformat": 4,
 "nbformat_minor": 5
}
